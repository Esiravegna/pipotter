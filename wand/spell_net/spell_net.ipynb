{
 "cells": [
  {
   "cell_type": "markdown",
   "metadata": {},
   "source": [
    "# Spell Detection\n",
    "\n",
    "## Introduction\n",
    "\n",
    "Consider these symbols:\n",
    "\n",
    "<img src=\"https://i.pinimg.com/originals/c8/63/bc/c863bc6b913dbc49e094ee20eddec0ed.jpg\" alt=\"Drawing\" style=\"width: 300px;\"/>\n",
    "\n",
    "When drawing with the PiNoir and using a reflective wand, they pretty much look like this:\n",
    "\n",
    "<img src=\"../../media/capture.png\" style=\"width: 200px;\">\n",
    "\n",
    "Not unlike a MNIST. Now, considering the fact that I had to draw the symbols myself, and even with the previous [augmenting](./corpus_augment.ipynb), let's create a really simple net so far."
   ]
  },
  {
   "cell_type": "markdown",
   "metadata": {},
   "source": [
    "## The Model"
   ]
  },
  {
   "cell_type": "code",
   "execution_count": 10,
   "metadata": {
    "collapsed": false
   },
   "outputs": [],
   "source": [
    "from keras.layers import Dense, Activation, Reshape, Input\n",
    "from keras.layers import Flatten, Dropout\n",
    "from keras.layers.advanced_activations import LeakyReLU, ELU\n",
    "from keras.layers.convolutional import Conv2D, MaxPooling2D\n",
    "from keras.layers.normalization import BatchNormalization\n",
    "from keras.models import Model\n",
    "from keras.preprocessing.image import ImageDataGenerator\n",
    "from keras.callbacks import EarlyStopping, ModelCheckpoint, ReduceLROnPlateau, TensorBoard\n",
    "import os"
   ]
  },
  {
   "cell_type": "code",
   "execution_count": 2,
   "metadata": {
    "collapsed": true
   },
   "outputs": [],
   "source": [
    "NUMBER_OF_EPOCHS=50\n",
    "IMAGE_SHAPE=(32, 32, 1)"
   ]
  },
  {
   "cell_type": "code",
   "execution_count": 3,
   "metadata": {
    "collapsed": true
   },
   "outputs": [],
   "source": [
    "def spell_net(number_of_classess=6, input_shape = (32, 32, 3)):\n",
    "    \"\"\"\n",
    "    Returns a single convoluted net for MNIST given a number_of_classes and an input shape\n",
    "    \"\"\"\n",
    "    inputs = Input(shape=input_shape)\n",
    "    x = Conv2D(32, (3, 3), strides=(2, 2), padding='valid', name='conv1', activation='relu')(inputs)\n",
    "    x = MaxPooling2D(pool_size=(3, 3), strides=(2, 2), name='pool1')(x)\n",
    "    x = BatchNormalization()(x)\n",
    "    x = Flatten()(x)\n",
    "    x = Dense(128, activation='relu', use_bias=False)(x)\n",
    "    x = BatchNormalization()(x)\n",
    "    predictions = Dense(number_of_classess, activation='softmax')(x)\n",
    "    model = Model(inputs=inputs, outputs=predictions)\n",
    "    print(\"spell net created\")\n",
    "    print(model.summary())\n",
    "    return model"
   ]
  },
  {
   "cell_type": "code",
   "execution_count": 4,
   "metadata": {
    "collapsed": true
   },
   "outputs": [],
   "source": [
    "BATCH_SIZE = 64\n",
    "NUM_EPOCH = 50\n",
    "LR = 0.0002  # initial learning rate\n",
    "B1 = 0.5  # momentum term\n",
    "GENERATED_MODEL_PATH = '../../wand/spell_net/models/'"
   ]
  },
  {
   "cell_type": "code",
   "execution_count": 5,
   "metadata": {
    "collapsed": false
   },
   "outputs": [
    {
     "name": "stdout",
     "output_type": "stream",
     "text": [
      "Found 48000 images belonging to 6 classes.\n",
      "Found 12000 images belonging to 6 classes.\n"
     ]
    }
   ],
   "source": [
    "train_datagen = ImageDataGenerator(\n",
    "        rescale=1./127.5,\n",
    "        shear_range=0.052,\n",
    "        zoom_range=0.05)\n",
    "test_datagen = ImageDataGenerator(rescale=1./127.5)\n",
    "\n",
    "train_generator = train_datagen.flow_from_directory(\n",
    "        '../../media/dataset/train',\n",
    "        target_size=(32, 32),\n",
    "        batch_size=64)\n",
    "test_generator = train_datagen.flow_from_directory(\n",
    "        '../../media/dataset/test',\n",
    "        target_size=(32, 32),\n",
    "        batch_size=BATCH_SIZE)"
   ]
  },
  {
   "cell_type": "code",
   "execution_count": 6,
   "metadata": {
    "collapsed": false
   },
   "outputs": [],
   "source": [
    "if not os.path.exists(GENERATED_MODEL_PATH):\n",
    "    os.makedirs(GENERATED_MODEL_PATH)"
   ]
  },
  {
   "cell_type": "code",
   "execution_count": 11,
   "metadata": {
    "collapsed": false
   },
   "outputs": [
    {
     "name": "stdout",
     "output_type": "stream",
     "text": [
      "spell net created\n",
      "_________________________________________________________________\n",
      "Layer (type)                 Output Shape              Param #   \n",
      "=================================================================\n",
      "input_1 (InputLayer)         (None, 32, 32, 3)         0         \n",
      "_________________________________________________________________\n",
      "conv1 (Conv2D)               (None, 15, 15, 32)        896       \n",
      "_________________________________________________________________\n",
      "pool1 (MaxPooling2D)         (None, 7, 7, 32)          0         \n",
      "_________________________________________________________________\n",
      "batch_normalization_1 (Batch (None, 7, 7, 32)          128       \n",
      "_________________________________________________________________\n",
      "flatten_1 (Flatten)          (None, 1568)              0         \n",
      "_________________________________________________________________\n",
      "dense_1 (Dense)              (None, 128)               200704    \n",
      "_________________________________________________________________\n",
      "batch_normalization_2 (Batch (None, 128)               512       \n",
      "_________________________________________________________________\n",
      "dense_2 (Dense)              (None, 6)                 774       \n",
      "=================================================================\n",
      "Total params: 203,014\n",
      "Trainable params: 202,694\n",
      "Non-trainable params: 320\n",
      "_________________________________________________________________\n",
      "None\n",
      "Epoch 1/50\n",
      "749/750 [============================>.] - ETA: 0s - loss: 0.0380 - acc: 0.9875Epoch 00001: saving model to ../../wand/spell_net/models/spell_net_01.h5\n",
      "750/750 [==============================] - 131s 174ms/step - loss: 0.0380 - acc: 0.9875 - val_loss: 0.0170 - val_acc: 0.9942\n",
      "Epoch 2/50\n",
      "749/750 [============================>.] - ETA: 0s - loss: 0.0151 - acc: 0.9949Epoch 00002: saving model to ../../wand/spell_net/models/spell_net_02.h5\n",
      "750/750 [==============================] - 104s 138ms/step - loss: 0.0151 - acc: 0.9949 - val_loss: 0.0126 - val_acc: 0.9962\n",
      "Epoch 3/50\n",
      "749/750 [============================>.] - ETA: 0s - loss: 0.0100 - acc: 0.9967Epoch 00003: saving model to ../../wand/spell_net/models/spell_net_03.h5\n",
      "750/750 [==============================] - 113s 150ms/step - loss: 0.0100 - acc: 0.9967 - val_loss: 0.0111 - val_acc: 0.9968\n",
      "Epoch 4/50\n",
      "749/750 [============================>.] - ETA: 0s - loss: 0.0095 - acc: 0.9969Epoch 00004: saving model to ../../wand/spell_net/models/spell_net_04.h5\n",
      "750/750 [==============================] - 108s 143ms/step - loss: 0.0095 - acc: 0.9969 - val_loss: 0.0216 - val_acc: 0.9918\n",
      "Epoch 5/50\n",
      "749/750 [============================>.] - ETA: 0s - loss: 0.0073 - acc: 0.9976Epoch 00005: saving model to ../../wand/spell_net/models/spell_net_05.h5\n",
      "750/750 [==============================] - 148s 198ms/step - loss: 0.0073 - acc: 0.9976 - val_loss: 0.0114 - val_acc: 0.9958\n",
      "Epoch 6/50\n",
      "749/750 [============================>.] - ETA: 0s - loss: 0.0062 - acc: 0.9977Epoch 00006: saving model to ../../wand/spell_net/models/spell_net_06.h5\n",
      "750/750 [==============================] - 108s 145ms/step - loss: 0.0062 - acc: 0.9977 - val_loss: 0.0086 - val_acc: 0.9974\n",
      "Epoch 7/50\n",
      "749/750 [============================>.] - ETA: 0s - loss: 0.0062 - acc: 0.9977Epoch 00007: saving model to ../../wand/spell_net/models/spell_net_07.h5\n",
      "750/750 [==============================] - 93s 124ms/step - loss: 0.0062 - acc: 0.9977 - val_loss: 0.0096 - val_acc: 0.9968\n",
      "Epoch 8/50\n",
      "749/750 [============================>.] - ETA: 0s - loss: 0.0060 - acc: 0.9978Epoch 00008: saving model to ../../wand/spell_net/models/spell_net_08.h5\n",
      "750/750 [==============================] - 94s 125ms/step - loss: 0.0060 - acc: 0.9978 - val_loss: 0.0186 - val_acc: 0.9934\n",
      "Epoch 9/50\n",
      "749/750 [============================>.] - ETA: 0s - loss: 0.0056 - acc: 0.9980Epoch 00009: saving model to ../../wand/spell_net/models/spell_net_09.h5\n",
      "750/750 [==============================] - 94s 125ms/step - loss: 0.0055 - acc: 0.9980 - val_loss: 0.0086 - val_acc: 0.9969\n",
      "Epoch 10/50\n",
      "749/750 [============================>.] - ETA: 0s - loss: 0.0045 - acc: 0.9984Epoch 00010: saving model to ../../wand/spell_net/models/spell_net_10.h5\n",
      "750/750 [==============================] - 97s 130ms/step - loss: 0.0045 - acc: 0.9984 - val_loss: 0.0207 - val_acc: 0.9942\n",
      "Epoch 11/50\n",
      "749/750 [============================>.] - ETA: 0s - loss: 0.0043 - acc: 0.9988Epoch 00011: saving model to ../../wand/spell_net/models/spell_net_11.h5\n",
      "750/750 [==============================] - 100s 133ms/step - loss: 0.0043 - acc: 0.9988 - val_loss: 0.0137 - val_acc: 0.9958\n",
      "Epoch 12/50\n",
      "749/750 [============================>.] - ETA: 0s - loss: 0.0042 - acc: 0.9986Epoch 00012: saving model to ../../wand/spell_net/models/spell_net_12.h5\n",
      "750/750 [==============================] - 96s 128ms/step - loss: 0.0042 - acc: 0.9986 - val_loss: 0.0071 - val_acc: 0.9982\n",
      "Epoch 13/50\n",
      "749/750 [============================>.] - ETA: 0s - loss: 0.0035 - acc: 0.9988Epoch 00013: saving model to ../../wand/spell_net/models/spell_net_13.h5\n",
      "750/750 [==============================] - 97s 129ms/step - loss: 0.0035 - acc: 0.9988 - val_loss: 0.0080 - val_acc: 0.9979\n",
      "Epoch 14/50\n",
      "749/750 [============================>.] - ETA: 0s - loss: 0.0029 - acc: 0.9991Epoch 00014: saving model to ../../wand/spell_net/models/spell_net_14.h5\n",
      "750/750 [==============================] - 156s 208ms/step - loss: 0.0029 - acc: 0.9991 - val_loss: 0.0084 - val_acc: 0.9976\n",
      "Epoch 15/50\n",
      "749/750 [============================>.] - ETA: 0s - loss: 0.0036 - acc: 0.9987Epoch 00015: saving model to ../../wand/spell_net/models/spell_net_15.h5\n",
      "750/750 [==============================] - 122s 163ms/step - loss: 0.0036 - acc: 0.9987 - val_loss: 0.0096 - val_acc: 0.9965\n",
      "Epoch 16/50\n",
      "749/750 [============================>.] - ETA: 0s - loss: 0.0036 - acc: 0.9988Epoch 00016: saving model to ../../wand/spell_net/models/spell_net_16.h5\n",
      "750/750 [==============================] - 125s 166ms/step - loss: 0.0036 - acc: 0.9988 - val_loss: 0.0124 - val_acc: 0.9958\n",
      "Epoch 17/50\n",
      "749/750 [============================>.] - ETA: 0s - loss: 0.0030 - acc: 0.9991Epoch 00017: saving model to ../../wand/spell_net/models/spell_net_17.h5\n",
      "750/750 [==============================] - 124s 166ms/step - loss: 0.0030 - acc: 0.9991 - val_loss: 0.0084 - val_acc: 0.9974\n",
      "Epoch 18/50\n",
      "749/750 [============================>.] - ETA: 0s - loss: 0.0029 - acc: 0.9991Epoch 00018: saving model to ../../wand/spell_net/models/spell_net_18.h5\n",
      "750/750 [==============================] - 123s 164ms/step - loss: 0.0029 - acc: 0.9991 - val_loss: 0.0090 - val_acc: 0.9976\n",
      "Epoch 19/50\n",
      "749/750 [============================>.] - ETA: 0s - loss: 0.0024 - acc: 0.9993Epoch 00019: saving model to ../../wand/spell_net/models/spell_net_19.h5\n",
      "750/750 [==============================] - 119s 159ms/step - loss: 0.0024 - acc: 0.9993 - val_loss: 0.0058 - val_acc: 0.9982\n",
      "Epoch 20/50\n",
      "749/750 [============================>.] - ETA: 0s - loss: 0.0028 - acc: 0.9990Epoch 00020: saving model to ../../wand/spell_net/models/spell_net_20.h5\n",
      "750/750 [==============================] - 123s 164ms/step - loss: 0.0027 - acc: 0.9990 - val_loss: 0.0058 - val_acc: 0.9983\n",
      "Epoch 21/50\n",
      "749/750 [============================>.] - ETA: 0s - loss: 0.0028 - acc: 0.9991Epoch 00021: saving model to ../../wand/spell_net/models/spell_net_21.h5\n",
      "750/750 [==============================] - 119s 159ms/step - loss: 0.0028 - acc: 0.9991 - val_loss: 0.0072 - val_acc: 0.9976\n",
      "Epoch 22/50\n",
      "749/750 [============================>.] - ETA: 0s - loss: 0.0025 - acc: 0.9990Epoch 00022: saving model to ../../wand/spell_net/models/spell_net_22.h5\n",
      "750/750 [==============================] - 115s 153ms/step - loss: 0.0025 - acc: 0.9990 - val_loss: 0.0114 - val_acc: 0.9965\n",
      "Epoch 23/50\n",
      "749/750 [============================>.] - ETA: 0s - loss: 0.0018 - acc: 0.9994Epoch 00023: saving model to ../../wand/spell_net/models/spell_net_23.h5\n",
      "750/750 [==============================] - 116s 155ms/step - loss: 0.0018 - acc: 0.9994 - val_loss: 0.0155 - val_acc: 0.9956\n",
      "Epoch 24/50\n",
      "749/750 [============================>.] - ETA: 0s - loss: 0.0019 - acc: 0.9994Epoch 00024: saving model to ../../wand/spell_net/models/spell_net_24.h5\n",
      "750/750 [==============================] - 125s 167ms/step - loss: 0.0019 - acc: 0.9994 - val_loss: 0.0081 - val_acc: 0.9975\n",
      "Epoch 25/50\n",
      "749/750 [============================>.] - ETA: 0s - loss: 0.0021 - acc: 0.9993Epoch 00025: saving model to ../../wand/spell_net/models/spell_net_25.h5\n",
      "750/750 [==============================] - 127s 170ms/step - loss: 0.0021 - acc: 0.9993 - val_loss: 0.0073 - val_acc: 0.9978\n",
      "Epoch 26/50\n",
      "749/750 [============================>.] - ETA: 0s - loss: 0.0024 - acc: 0.9992Epoch 00026: saving model to ../../wand/spell_net/models/spell_net_26.h5\n",
      "750/750 [==============================] - 130s 173ms/step - loss: 0.0024 - acc: 0.9992 - val_loss: 0.0082 - val_acc: 0.9974\n",
      "Epoch 27/50\n",
      "749/750 [============================>.] - ETA: 0s - loss: 0.0019 - acc: 0.9992Epoch 00027: saving model to ../../wand/spell_net/models/spell_net_27.h5\n",
      "750/750 [==============================] - 128s 171ms/step - loss: 0.0019 - acc: 0.9992 - val_loss: 0.0101 - val_acc: 0.9977\n",
      "Epoch 28/50\n",
      "749/750 [============================>.] - ETA: 0s - loss: 0.0030 - acc: 0.9991Epoch 00028: saving model to ../../wand/spell_net/models/spell_net_28.h5\n",
      "750/750 [==============================] - 119s 158ms/step - loss: 0.0029 - acc: 0.9991 - val_loss: 0.0077 - val_acc: 0.9977\n",
      "Epoch 29/50\n",
      "749/750 [============================>.] - ETA: 0s - loss: 0.0020 - acc: 0.9994Epoch 00029: saving model to ../../wand/spell_net/models/spell_net_29.h5\n",
      "750/750 [==============================] - 127s 170ms/step - loss: 0.0020 - acc: 0.9994 - val_loss: 0.0097 - val_acc: 0.9976\n",
      "Epoch 30/50\n",
      "749/750 [============================>.] - ETA: 0s - loss: 0.0021 - acc: 0.9994Epoch 00030: saving model to ../../wand/spell_net/models/spell_net_30.h5\n",
      "750/750 [==============================] - 121s 162ms/step - loss: 0.0021 - acc: 0.9994 - val_loss: 0.0098 - val_acc: 0.9978\n",
      "Epoch 31/50\n",
      "749/750 [============================>.] - ETA: 0s - loss: 0.0020 - acc: 0.9993Epoch 00031: saving model to ../../wand/spell_net/models/spell_net_31.h5\n",
      "750/750 [==============================] - 119s 158ms/step - loss: 0.0020 - acc: 0.9993 - val_loss: 0.0101 - val_acc: 0.9971\n",
      "Epoch 32/50\n",
      "749/750 [============================>.] - ETA: 0s - loss: 0.0020 - acc: 0.9994Epoch 00032: saving model to ../../wand/spell_net/models/spell_net_32.h5\n",
      "750/750 [==============================] - 129s 172ms/step - loss: 0.0020 - acc: 0.9994 - val_loss: 0.0248 - val_acc: 0.9942\n",
      "Epoch 33/50\n",
      "749/750 [============================>.] - ETA: 0s - loss: 0.0023 - acc: 0.9992Epoch 00033: saving model to ../../wand/spell_net/models/spell_net_33.h5\n",
      "750/750 [==============================] - 125s 167ms/step - loss: 0.0023 - acc: 0.9992 - val_loss: 0.0100 - val_acc: 0.9972\n",
      "Epoch 34/50\n",
      "749/750 [============================>.] - ETA: 0s - loss: 0.0020 - acc: 0.9993Epoch 00034: saving model to ../../wand/spell_net/models/spell_net_34.h5\n",
      "750/750 [==============================] - 103s 137ms/step - loss: 0.0020 - acc: 0.9993 - val_loss: 0.0089 - val_acc: 0.9976\n",
      "Epoch 35/50\n",
      "749/750 [============================>.] - ETA: 0s - loss: 0.0017 - acc: 0.9994Epoch 00035: saving model to ../../wand/spell_net/models/spell_net_35.h5\n",
      "750/750 [==============================] - 131s 174ms/step - loss: 0.0017 - acc: 0.9994 - val_loss: 0.0069 - val_acc: 0.9976\n",
      "Epoch 36/50\n",
      "749/750 [============================>.] - ETA: 0s - loss: 9.0432e-04 - acc: 0.9997Epoch 00036: saving model to ../../wand/spell_net/models/spell_net_36.h5\n",
      "750/750 [==============================] - 121s 162ms/step - loss: 9.0320e-04 - acc: 0.9997 - val_loss: 0.0077 - val_acc: 0.9978\n",
      "Epoch 37/50\n",
      "749/750 [============================>.] - ETA: 0s - loss: 0.0010 - acc: 0.9996Epoch 00037: saving model to ../../wand/spell_net/models/spell_net_37.h5\n",
      "750/750 [==============================] - 119s 159ms/step - loss: 0.0010 - acc: 0.9996 - val_loss: 0.0083 - val_acc: 0.9975\n",
      "Epoch 38/50\n",
      "749/750 [============================>.] - ETA: 0s - loss: 0.0017 - acc: 0.9996Epoch 00038: saving model to ../../wand/spell_net/models/spell_net_38.h5\n",
      "750/750 [==============================] - 127s 169ms/step - loss: 0.0017 - acc: 0.9996 - val_loss: 0.0076 - val_acc: 0.9978\n",
      "Epoch 39/50\n",
      "749/750 [============================>.] - ETA: 0s - loss: 0.0020 - acc: 0.9994Epoch 00039: saving model to ../../wand/spell_net/models/spell_net_39.h5\n",
      "750/750 [==============================] - 137s 183ms/step - loss: 0.0020 - acc: 0.9994 - val_loss: 0.0073 - val_acc: 0.9978\n",
      "Epoch 40/50\n",
      "749/750 [============================>.] - ETA: 0s - loss: 0.0013 - acc: 0.9995Epoch 00040: saving model to ../../wand/spell_net/models/spell_net_40.h5\n",
      "750/750 [==============================] - 138s 183ms/step - loss: 0.0013 - acc: 0.9995 - val_loss: 0.0136 - val_acc: 0.9962\n",
      "Epoch 41/50\n",
      "749/750 [============================>.] - ETA: 0s - loss: 9.0918e-04 - acc: 0.9998Epoch 00041: saving model to ../../wand/spell_net/models/spell_net_41.h5\n",
      "750/750 [==============================] - 118s 158ms/step - loss: 9.0797e-04 - acc: 0.9998 - val_loss: 0.0062 - val_acc: 0.9982\n",
      "Epoch 42/50\n",
      "749/750 [============================>.] - ETA: 0s - loss: 0.0016 - acc: 0.9996Epoch 00042: saving model to ../../wand/spell_net/models/spell_net_42.h5\n",
      "750/750 [==============================] - 133s 177ms/step - loss: 0.0015 - acc: 0.9996 - val_loss: 0.0151 - val_acc: 0.9967\n",
      "Epoch 43/50\n",
      "749/750 [============================>.] - ETA: 0s - loss: 0.0019 - acc: 0.9994Epoch 00043: saving model to ../../wand/spell_net/models/spell_net_43.h5\n",
      "750/750 [==============================] - 140s 186ms/step - loss: 0.0019 - acc: 0.9994 - val_loss: 0.0103 - val_acc: 0.9967\n",
      "Epoch 44/50\n",
      "749/750 [============================>.] - ETA: 0s - loss: 0.0014 - acc: 0.9995Epoch 00044: saving model to ../../wand/spell_net/models/spell_net_44.h5\n",
      "750/750 [==============================] - 121s 162ms/step - loss: 0.0014 - acc: 0.9995 - val_loss: 0.0134 - val_acc: 0.9967\n",
      "Epoch 45/50\n",
      "749/750 [============================>.] - ETA: 0s - loss: 0.0011 - acc: 0.9996Epoch 00045: saving model to ../../wand/spell_net/models/spell_net_45.h5\n",
      "750/750 [==============================] - 130s 173ms/step - loss: 0.0011 - acc: 0.9996 - val_loss: 0.0072 - val_acc: 0.9980\n"
     ]
    },
    {
     "data": {
      "text/plain": [
       "<keras.callbacks.History at 0x2ada4462cf8>"
      ]
     },
     "execution_count": 11,
     "metadata": {},
     "output_type": "execute_result"
    }
   ],
   "source": [
    "train_callbacks = [\n",
    "    EarlyStopping(monitor='val_loss', patience=25, verbose=0, mode='min'),\n",
    "    ModelCheckpoint(filepath=os.path.join(GENERATED_MODEL_PATH, \"spell_net_{epoch:02d}.h5\"),\n",
    "                    verbose=1),\n",
    "    TensorBoard(log_dir=GENERATED_MODEL_PATH, write_graph=False),   \n",
    "]\n",
    "s = spell_net(number_of_classess=test_generator.num_classes)\n",
    "s.compile(loss='categorical_crossentropy', optimizer='adam', metrics=['accuracy'])\n",
    "s.fit_generator(\n",
    "            train_generator,\n",
    "            steps_per_epoch=(len(train_generator.filenames)) // train_generator.batch_size,\n",
    "            epochs=NUM_EPOCH,\n",
    "            validation_data=test_generator,\n",
    "            validation_steps=(len(test_generator.filenames)) // test_generator.batch_size,\n",
    "            callbacks=train_callbacks,\n",
    "            verbose=1\n",
    "        )"
   ]
  },
  {
   "cell_type": "markdown",
   "metadata": {},
   "source": [
    "Finally, our network is trained. \n",
    "The latest model can be found [here](https://s3.amazonaws.com/pipotter/spell_net/spell_net.tar.gz)"
   ]
  },
  {
   "cell_type": "code",
   "execution_count": null,
   "metadata": {
    "collapsed": true
   },
   "outputs": [],
   "source": []
  }
 ],
 "metadata": {
  "kernelspec": {
   "display_name": "Python (deeplearning)",
   "language": "python",
   "name": "deeplearning"
  },
  "language_info": {
   "codemirror_mode": {
    "name": "ipython",
    "version": 3
   },
   "file_extension": ".py",
   "mimetype": "text/x-python",
   "name": "python",
   "nbconvert_exporter": "python",
   "pygments_lexer": "ipython3",
   "version": "3.6.3"
  }
 },
 "nbformat": 4,
 "nbformat_minor": 1
}
