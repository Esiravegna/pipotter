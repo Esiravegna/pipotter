{
 "cells": [
  {
   "cell_type": "markdown",
   "metadata": {},
   "source": [
    "# Spell Detection\n",
    "\n",
    "## Introduction\n",
    "\n",
    "Consider these symbols:\n",
    "\n",
    "<img src=\"https://i.pinimg.com/originals/c8/63/bc/c863bc6b913dbc49e094ee20eddec0ed.jpg\" alt=\"Drawing\" style=\"width: 300px;\"/>\n",
    "\n",
    "When drawing with the PiNoir and using a reflective wand, they pretty much look like this:\n",
    "\n",
    "<img src=\"../../media/capture.png\" style=\"width: 200px;\">\n",
    "\n",
    "Not unlike a MNIST. Now, considering the fact that I had to draw the symbols myself, and even with the previous [augmenting](./corpus_augment.ipynb), let's create a really simple net so far."
   ]
  },
  {
   "cell_type": "markdown",
   "metadata": {},
   "source": [
    "## The Model"
   ]
  },
  {
   "cell_type": "code",
   "execution_count": 19,
   "metadata": {
    "collapsed": false
   },
   "outputs": [],
   "source": [
    "%matplotlib inline\n",
    "import json\n",
    "from keras.layers import Dense, Activation, Reshape, Input\n",
    "from keras.layers import Flatten, Dropout\n",
    "from keras.layers.advanced_activations import LeakyReLU, ELU\n",
    "from keras.layers.convolutional import Conv2D, MaxPooling2D\n",
    "from keras.layers.normalization import BatchNormalization\n",
    "from keras.models import Model\n",
    "from keras.preprocessing.image import ImageDataGenerator\n",
    "from keras.callbacks import EarlyStopping, ModelCheckpoint, ReduceLROnPlateau, TensorBoard\n",
    "import matplotlib.pyplot as plt\n",
    "\n",
    "import os"
   ]
  },
  {
   "cell_type": "code",
   "execution_count": 2,
   "metadata": {
    "collapsed": true
   },
   "outputs": [],
   "source": [
    "NUMBER_OF_EPOCHS=50\n",
    "IMAGE_SHAPE=(32, 32, 1)"
   ]
  },
  {
   "cell_type": "code",
   "execution_count": 3,
   "metadata": {
    "collapsed": true
   },
   "outputs": [],
   "source": [
    "def spell_net(number_of_classess=6, input_shape = (32, 32, 3)):\n",
    "    \"\"\"\n",
    "    Returns a single convoluted net for MNIST given a number_of_classes and an input shape\n",
    "    \"\"\"\n",
    "    inputs = Input(shape=input_shape)\n",
    "    x = Conv2D(32, (3, 3), strides=(2, 2), padding='valid', name='conv1', activation='relu')(inputs)\n",
    "    x = MaxPooling2D(pool_size=(3, 3), strides=(2, 2), name='pool1')(x)\n",
    "    x = BatchNormalization()(x)\n",
    "    x = Flatten()(x)\n",
    "    x = Dense(128, activation='relu', use_bias=False)(x)\n",
    "    x = BatchNormalization()(x)\n",
    "    predictions = Dense(number_of_classess, activation='sigmoid')(x)\n",
    "    model = Model(inputs=inputs, outputs=predictions)\n",
    "    print(\"spell net created\")\n",
    "    print(model.summary())\n",
    "    return model"
   ]
  },
  {
   "cell_type": "code",
   "execution_count": 4,
   "metadata": {
    "collapsed": true
   },
   "outputs": [],
   "source": [
    "BATCH_SIZE = 64\n",
    "NUM_EPOCH = 50\n",
    "LR = 0.0002  # initial learning rate\n",
    "B1 = 0.5  # momentum term\n",
    "GENERATED_MODEL_PATH = '../../wand/spell_net/models/'"
   ]
  },
  {
   "cell_type": "code",
   "execution_count": 5,
   "metadata": {
    "collapsed": false
   },
   "outputs": [
    {
     "name": "stdout",
     "output_type": "stream",
     "text": [
      "Found 48000 images belonging to 6 classes.\n",
      "Found 12000 images belonging to 6 classes.\n"
     ]
    }
   ],
   "source": [
    "train_datagen = ImageDataGenerator(\n",
    "        rescale=1./127.5,\n",
    "        shear_range=0.052,\n",
    "        zoom_range=0.05)\n",
    "test_datagen = ImageDataGenerator(rescale=1./127.5)\n",
    "\n",
    "train_generator = train_datagen.flow_from_directory(\n",
    "        '../../media/dataset/train',\n",
    "        target_size=(32, 32),\n",
    "        batch_size=64)\n",
    "test_generator = train_datagen.flow_from_directory(\n",
    "        '../../media/dataset/test',\n",
    "        target_size=(32, 32),\n",
    "        batch_size=BATCH_SIZE)"
   ]
  },
  {
   "cell_type": "markdown",
   "metadata": {},
   "source": [
    "Let's create our list of classes"
   ]
  },
  {
   "cell_type": "code",
   "execution_count": 8,
   "metadata": {
    "collapsed": false
   },
   "outputs": [
    {
     "data": {
      "text/plain": [
       "'{\"0\": \"arresto_momentum\", \"1\": \"locomotor\", \"2\": \"lumos\", \"3\": \"meteojinx\", \"4\": \"noctis\", \"5\": \"silencio\"}'"
      ]
     },
     "execution_count": 8,
     "metadata": {},
     "output_type": "execute_result"
    }
   ],
   "source": [
    "classes = { v:k for k,v in train_generator.class_indices.items()} \n",
    "json.dumps(classes)"
   ]
  },
  {
   "cell_type": "code",
   "execution_count": 7,
   "metadata": {
    "collapsed": false
   },
   "outputs": [],
   "source": [
    "if not os.path.exists(GENERATED_MODEL_PATH):\n",
    "    os.makedirs(GENERATED_MODEL_PATH)"
   ]
  },
  {
   "cell_type": "code",
   "execution_count": 8,
   "metadata": {
    "collapsed": false
   },
   "outputs": [
    {
     "name": "stdout",
     "output_type": "stream",
     "text": [
      "spell net created\n",
      "_________________________________________________________________\n",
      "Layer (type)                 Output Shape              Param #   \n",
      "=================================================================\n",
      "input_1 (InputLayer)         (None, 32, 32, 3)         0         \n",
      "_________________________________________________________________\n",
      "conv1 (Conv2D)               (None, 15, 15, 32)        896       \n",
      "_________________________________________________________________\n",
      "pool1 (MaxPooling2D)         (None, 7, 7, 32)          0         \n",
      "_________________________________________________________________\n",
      "batch_normalization_1 (Batch (None, 7, 7, 32)          128       \n",
      "_________________________________________________________________\n",
      "flatten_1 (Flatten)          (None, 1568)              0         \n",
      "_________________________________________________________________\n",
      "dense_1 (Dense)              (None, 128)               200704    \n",
      "_________________________________________________________________\n",
      "batch_normalization_2 (Batch (None, 128)               512       \n",
      "_________________________________________________________________\n",
      "dense_2 (Dense)              (None, 6)                 774       \n",
      "=================================================================\n",
      "Total params: 203,014\n",
      "Trainable params: 202,694\n",
      "Non-trainable params: 320\n",
      "_________________________________________________________________\n",
      "None\n",
      "Epoch 1/50\n",
      "749/750 [============================>.] - ETA: 0s - loss: 0.1338 - acc: 0.9811Epoch 00001: saving model to ../../wand/spell_net/models/spell_net_01.h5\n",
      "750/750 [==============================] - 347s 462ms/step - loss: 0.1336 - acc: 0.9811 - val_loss: 0.0182 - val_acc: 0.9955\n",
      "Epoch 2/50\n",
      "749/750 [============================>.] - ETA: 0s - loss: 0.0170 - acc: 0.9954Epoch 00002: saving model to ../../wand/spell_net/models/spell_net_02.h5\n",
      "750/750 [==============================] - 159s 213ms/step - loss: 0.0170 - acc: 0.9954 - val_loss: 0.0358 - val_acc: 0.9887\n",
      "Epoch 3/50\n",
      "749/750 [============================>.] - ETA: 0s - loss: 0.0110 - acc: 0.9964Epoch 00003: saving model to ../../wand/spell_net/models/spell_net_03.h5\n",
      "750/750 [==============================] - 204s 272ms/step - loss: 0.0111 - acc: 0.9964 - val_loss: 0.0115 - val_acc: 0.9958\n",
      "Epoch 4/50\n",
      "749/750 [============================>.] - ETA: 0s - loss: 0.0088 - acc: 0.9971Epoch 00004: saving model to ../../wand/spell_net/models/spell_net_04.h5\n",
      "750/750 [==============================] - 197s 263ms/step - loss: 0.0088 - acc: 0.9971 - val_loss: 0.0111 - val_acc: 0.9960\n",
      "Epoch 5/50\n",
      "749/750 [============================>.] - ETA: 0s - loss: 0.0075 - acc: 0.9975Epoch 00005: saving model to ../../wand/spell_net/models/spell_net_05.h5\n",
      "750/750 [==============================] - 181s 241ms/step - loss: 0.0075 - acc: 0.9975 - val_loss: 0.0157 - val_acc: 0.9942\n",
      "Epoch 6/50\n",
      "749/750 [============================>.] - ETA: 0s - loss: 0.0066 - acc: 0.9974Epoch 00006: saving model to ../../wand/spell_net/models/spell_net_06.h5\n",
      "750/750 [==============================] - 199s 265ms/step - loss: 0.0066 - acc: 0.9974 - val_loss: 0.0110 - val_acc: 0.9965\n",
      "Epoch 7/50\n",
      "749/750 [============================>.] - ETA: 0s - loss: 0.0055 - acc: 0.9979Epoch 00007: saving model to ../../wand/spell_net/models/spell_net_07.h5\n",
      "750/750 [==============================] - 188s 250ms/step - loss: 0.0055 - acc: 0.9979 - val_loss: 0.0120 - val_acc: 0.9967\n",
      "Epoch 8/50\n",
      "749/750 [============================>.] - ETA: 0s - loss: 0.0066 - acc: 0.9978Epoch 00008: saving model to ../../wand/spell_net/models/spell_net_08.h5\n",
      "750/750 [==============================] - 192s 257ms/step - loss: 0.0066 - acc: 0.9978 - val_loss: 0.0177 - val_acc: 0.9948\n",
      "Epoch 9/50\n",
      "749/750 [============================>.] - ETA: 0s - loss: 0.0051 - acc: 0.9982Epoch 00009: saving model to ../../wand/spell_net/models/spell_net_09.h5\n",
      "750/750 [==============================] - 212s 283ms/step - loss: 0.0051 - acc: 0.9982 - val_loss: 0.0106 - val_acc: 0.9973\n",
      "Epoch 10/50\n",
      "749/750 [============================>.] - ETA: 0s - loss: 0.0051 - acc: 0.9982Epoch 00010: saving model to ../../wand/spell_net/models/spell_net_10.h5\n",
      "750/750 [==============================] - 205s 273ms/step - loss: 0.0051 - acc: 0.9982 - val_loss: 0.0134 - val_acc: 0.9957\n",
      "Epoch 11/50\n",
      "749/750 [============================>.] - ETA: 0s - loss: 0.0036 - acc: 0.9989Epoch 00011: saving model to ../../wand/spell_net/models/spell_net_11.h5\n",
      "750/750 [==============================] - 221s 295ms/step - loss: 0.0036 - acc: 0.9989 - val_loss: 0.0081 - val_acc: 0.9978\n",
      "Epoch 12/50\n",
      "749/750 [============================>.] - ETA: 0s - loss: 0.0047 - acc: 0.9984Epoch 00012: saving model to ../../wand/spell_net/models/spell_net_12.h5\n",
      "750/750 [==============================] - 291s 388ms/step - loss: 0.0047 - acc: 0.9984 - val_loss: 0.0098 - val_acc: 0.9974\n",
      "Epoch 13/50\n",
      "749/750 [============================>.] - ETA: 0s - loss: 0.0041 - acc: 0.9986Epoch 00013: saving model to ../../wand/spell_net/models/spell_net_13.h5\n",
      "750/750 [==============================] - 206s 275ms/step - loss: 0.0041 - acc: 0.9986 - val_loss: 0.0087 - val_acc: 0.9972\n",
      "Epoch 14/50\n",
      "749/750 [============================>.] - ETA: 0s - loss: 0.0043 - acc: 0.9983Epoch 00014: saving model to ../../wand/spell_net/models/spell_net_14.h5\n",
      "750/750 [==============================] - 184s 246ms/step - loss: 0.0043 - acc: 0.9983 - val_loss: 0.0103 - val_acc: 0.9972\n",
      "Epoch 15/50\n",
      "749/750 [============================>.] - ETA: 0s - loss: 0.0033 - acc: 0.9989Epoch 00015: saving model to ../../wand/spell_net/models/spell_net_15.h5\n",
      "750/750 [==============================] - 230s 307ms/step - loss: 0.0033 - acc: 0.9989 - val_loss: 0.0076 - val_acc: 0.9980\n",
      "Epoch 16/50\n",
      "749/750 [============================>.] - ETA: 0s - loss: 0.0034 - acc: 0.9988Epoch 00016: saving model to ../../wand/spell_net/models/spell_net_16.h5\n",
      "750/750 [==============================] - 221s 295ms/step - loss: 0.0034 - acc: 0.9988 - val_loss: 0.0070 - val_acc: 0.9975\n",
      "Epoch 17/50\n",
      "749/750 [============================>.] - ETA: 0s - loss: 0.0031 - acc: 0.9987Epoch 00017: saving model to ../../wand/spell_net/models/spell_net_17.h5\n",
      "750/750 [==============================] - 183s 244ms/step - loss: 0.0031 - acc: 0.9987 - val_loss: 0.0107 - val_acc: 0.9967\n",
      "Epoch 18/50\n",
      "749/750 [============================>.] - ETA: 0s - loss: 0.0036 - acc: 0.9987Epoch 00018: saving model to ../../wand/spell_net/models/spell_net_18.h5\n",
      "750/750 [==============================] - 175s 233ms/step - loss: 0.0036 - acc: 0.9987 - val_loss: 0.0077 - val_acc: 0.9978\n",
      "Epoch 19/50\n",
      "749/750 [============================>.] - ETA: 0s - loss: 0.0031 - acc: 0.9990Epoch 00019: saving model to ../../wand/spell_net/models/spell_net_19.h5\n",
      "750/750 [==============================] - 165s 220ms/step - loss: 0.0031 - acc: 0.9990 - val_loss: 0.0076 - val_acc: 0.9975\n",
      "Epoch 20/50\n",
      "749/750 [============================>.] - ETA: 0s - loss: 0.0028 - acc: 0.9989Epoch 00020: saving model to ../../wand/spell_net/models/spell_net_20.h5\n",
      "750/750 [==============================] - 174s 233ms/step - loss: 0.0028 - acc: 0.9989 - val_loss: 0.0114 - val_acc: 0.9965\n",
      "Epoch 21/50\n",
      "749/750 [============================>.] - ETA: 0s - loss: 0.0026 - acc: 0.9991Epoch 00021: saving model to ../../wand/spell_net/models/spell_net_21.h5\n",
      "750/750 [==============================] - 171s 228ms/step - loss: 0.0026 - acc: 0.9991 - val_loss: 0.0094 - val_acc: 0.9971\n",
      "Epoch 22/50\n",
      "749/750 [============================>.] - ETA: 0s - loss: 0.0029 - acc: 0.9989Epoch 00022: saving model to ../../wand/spell_net/models/spell_net_22.h5\n",
      "750/750 [==============================] - 177s 236ms/step - loss: 0.0029 - acc: 0.9989 - val_loss: 0.0125 - val_acc: 0.9967\n",
      "Epoch 23/50\n",
      "749/750 [============================>.] - ETA: 0s - loss: 0.0031 - acc: 0.9988Epoch 00023: saving model to ../../wand/spell_net/models/spell_net_23.h5\n",
      "750/750 [==============================] - 166s 221ms/step - loss: 0.0031 - acc: 0.9988 - val_loss: 0.0130 - val_acc: 0.9972\n",
      "Epoch 24/50\n",
      "749/750 [============================>.] - ETA: 0s - loss: 0.0024 - acc: 0.9992Epoch 00024: saving model to ../../wand/spell_net/models/spell_net_24.h5\n",
      "750/750 [==============================] - 169s 225ms/step - loss: 0.0024 - acc: 0.9992 - val_loss: 0.0149 - val_acc: 0.9959\n",
      "Epoch 25/50\n",
      "749/750 [============================>.] - ETA: 0s - loss: 0.0021 - acc: 0.9992Epoch 00025: saving model to ../../wand/spell_net/models/spell_net_25.h5\n",
      "750/750 [==============================] - 175s 233ms/step - loss: 0.0021 - acc: 0.9992 - val_loss: 0.0106 - val_acc: 0.9977\n",
      "Epoch 26/50\n",
      "749/750 [============================>.] - ETA: 0s - loss: 0.0028 - acc: 0.9990Epoch 00026: saving model to ../../wand/spell_net/models/spell_net_26.h5\n",
      "750/750 [==============================] - 170s 226ms/step - loss: 0.0028 - acc: 0.9990 - val_loss: 0.0062 - val_acc: 0.9983\n",
      "Epoch 27/50\n",
      "749/750 [============================>.] - ETA: 0s - loss: 0.0015 - acc: 0.9994Epoch 00027: saving model to ../../wand/spell_net/models/spell_net_27.h5\n",
      "750/750 [==============================] - 177s 235ms/step - loss: 0.0015 - acc: 0.9994 - val_loss: 0.0065 - val_acc: 0.9981\n",
      "Epoch 28/50\n",
      "749/750 [============================>.] - ETA: 0s - loss: 0.0024 - acc: 0.9992Epoch 00028: saving model to ../../wand/spell_net/models/spell_net_28.h5\n",
      "750/750 [==============================] - 116s 155ms/step - loss: 0.0024 - acc: 0.9992 - val_loss: 0.0093 - val_acc: 0.9974\n",
      "Epoch 29/50\n",
      "749/750 [============================>.] - ETA: 0s - loss: 0.0025 - acc: 0.9989Epoch 00029: saving model to ../../wand/spell_net/models/spell_net_29.h5\n",
      "750/750 [==============================] - 83s 110ms/step - loss: 0.0025 - acc: 0.9989 - val_loss: 0.0069 - val_acc: 0.9984\n",
      "Epoch 30/50\n",
      "749/750 [============================>.] - ETA: 0s - loss: 0.0021 - acc: 0.9993Epoch 00030: saving model to ../../wand/spell_net/models/spell_net_30.h5\n",
      "750/750 [==============================] - 77s 102ms/step - loss: 0.0021 - acc: 0.9993 - val_loss: 0.0068 - val_acc: 0.9984\n",
      "Epoch 31/50\n",
      "749/750 [============================>.] - ETA: 0s - loss: 0.0019 - acc: 0.9992Epoch 00031: saving model to ../../wand/spell_net/models/spell_net_31.h5\n",
      "750/750 [==============================] - 71s 95ms/step - loss: 0.0019 - acc: 0.9992 - val_loss: 0.0093 - val_acc: 0.9976\n",
      "Epoch 32/50\n",
      "749/750 [============================>.] - ETA: 0s - loss: 0.0022 - acc: 0.9991Epoch 00032: saving model to ../../wand/spell_net/models/spell_net_32.h5\n",
      "750/750 [==============================] - 72s 96ms/step - loss: 0.0022 - acc: 0.9991 - val_loss: 0.0097 - val_acc: 0.9976\n",
      "Epoch 33/50\n",
      "749/750 [============================>.] - ETA: 0s - loss: 0.0018 - acc: 0.9993Epoch 00033: saving model to ../../wand/spell_net/models/spell_net_33.h5\n",
      "750/750 [==============================] - 71s 95ms/step - loss: 0.0018 - acc: 0.9993 - val_loss: 0.0086 - val_acc: 0.9982\n",
      "Epoch 34/50\n",
      "749/750 [============================>.] - ETA: 0s - loss: 0.0024 - acc: 0.9990Epoch 00034: saving model to ../../wand/spell_net/models/spell_net_34.h5\n",
      "750/750 [==============================] - 72s 95ms/step - loss: 0.0024 - acc: 0.9990 - val_loss: 0.0082 - val_acc: 0.9977\n",
      "Epoch 35/50\n",
      "749/750 [============================>.] - ETA: 0s - loss: 0.0017 - acc: 0.9994Epoch 00035: saving model to ../../wand/spell_net/models/spell_net_35.h5\n",
      "750/750 [==============================] - 85s 113ms/step - loss: 0.0017 - acc: 0.9994 - val_loss: 0.0066 - val_acc: 0.9981\n",
      "Epoch 36/50\n",
      "749/750 [============================>.] - ETA: 0s - loss: 0.0016 - acc: 0.9993Epoch 00036: saving model to ../../wand/spell_net/models/spell_net_36.h5\n",
      "750/750 [==============================] - 84s 112ms/step - loss: 0.0016 - acc: 0.9993 - val_loss: 0.0119 - val_acc: 0.9977\n",
      "Epoch 37/50\n",
      "749/750 [============================>.] - ETA: 0s - loss: 0.0022 - acc: 0.9993Epoch 00037: saving model to ../../wand/spell_net/models/spell_net_37.h5\n",
      "750/750 [==============================] - 80s 106ms/step - loss: 0.0022 - acc: 0.9993 - val_loss: 0.0100 - val_acc: 0.9980\n",
      "Epoch 38/50\n",
      "749/750 [============================>.] - ETA: 0s - loss: 0.0015 - acc: 0.9994Epoch 00038: saving model to ../../wand/spell_net/models/spell_net_38.h5\n",
      "750/750 [==============================] - 73s 98ms/step - loss: 0.0015 - acc: 0.9994 - val_loss: 0.0080 - val_acc: 0.9983\n",
      "Epoch 39/50\n",
      "749/750 [============================>.] - ETA: 0s - loss: 0.0023 - acc: 0.9992Epoch 00039: saving model to ../../wand/spell_net/models/spell_net_39.h5\n",
      "750/750 [==============================] - 75s 100ms/step - loss: 0.0023 - acc: 0.9992 - val_loss: 0.0157 - val_acc: 0.9962\n",
      "Epoch 40/50\n",
      "749/750 [============================>.] - ETA: 0s - loss: 0.0021 - acc: 0.9992Epoch 00040: saving model to ../../wand/spell_net/models/spell_net_40.h5\n",
      "750/750 [==============================] - 73s 97ms/step - loss: 0.0021 - acc: 0.9992 - val_loss: 0.0208 - val_acc: 0.9952\n",
      "Epoch 41/50\n",
      "749/750 [============================>.] - ETA: 0s - loss: 0.0018 - acc: 0.9993Epoch 00041: saving model to ../../wand/spell_net/models/spell_net_41.h5\n",
      "750/750 [==============================] - 73s 98ms/step - loss: 0.0018 - acc: 0.9993 - val_loss: 0.0115 - val_acc: 0.9970\n",
      "Epoch 42/50\n",
      "749/750 [============================>.] - ETA: 0s - loss: 0.0016 - acc: 0.9993Epoch 00042: saving model to ../../wand/spell_net/models/spell_net_42.h5\n",
      "750/750 [==============================] - 74s 99ms/step - loss: 0.0016 - acc: 0.9993 - val_loss: 0.0076 - val_acc: 0.9981\n",
      "Epoch 43/50\n",
      "749/750 [============================>.] - ETA: 0s - loss: 0.0019 - acc: 0.9992Epoch 00043: saving model to ../../wand/spell_net/models/spell_net_43.h5\n",
      "750/750 [==============================] - 74s 98ms/step - loss: 0.0019 - acc: 0.9992 - val_loss: 0.0465 - val_acc: 0.9889\n",
      "Epoch 44/50\n",
      "749/750 [============================>.] - ETA: 0s - loss: 0.0013 - acc: 0.9995Epoch 00044: saving model to ../../wand/spell_net/models/spell_net_44.h5\n",
      "750/750 [==============================] - 74s 98ms/step - loss: 0.0013 - acc: 0.9995 - val_loss: 0.0113 - val_acc: 0.9978\n",
      "Epoch 45/50\n",
      "749/750 [============================>.] - ETA: 0s - loss: 0.0019 - acc: 0.9993Epoch 00045: saving model to ../../wand/spell_net/models/spell_net_45.h5\n",
      "750/750 [==============================] - 79s 106ms/step - loss: 0.0019 - acc: 0.9993 - val_loss: 0.0103 - val_acc: 0.9974\n",
      "Epoch 46/50\n",
      "749/750 [============================>.] - ETA: 0s - loss: 0.0014 - acc: 0.9995Epoch 00046: saving model to ../../wand/spell_net/models/spell_net_46.h5\n",
      "750/750 [==============================] - 86s 115ms/step - loss: 0.0014 - acc: 0.9995 - val_loss: 0.0074 - val_acc: 0.9984\n",
      "Epoch 47/50\n",
      "749/750 [============================>.] - ETA: 0s - loss: 0.0011 - acc: 0.9994Epoch 00047: saving model to ../../wand/spell_net/models/spell_net_47.h5\n",
      "750/750 [==============================] - 86s 114ms/step - loss: 0.0011 - acc: 0.9994 - val_loss: 0.0113 - val_acc: 0.9969\n",
      "Epoch 48/50\n",
      "749/750 [============================>.] - ETA: 0s - loss: 0.0023 - acc: 0.9992Epoch 00048: saving model to ../../wand/spell_net/models/spell_net_48.h5\n",
      "750/750 [==============================] - 87s 115ms/step - loss: 0.0023 - acc: 0.9992 - val_loss: 0.0101 - val_acc: 0.9976\n",
      "Epoch 49/50\n",
      "749/750 [============================>.] - ETA: 0s - loss: 0.0019 - acc: 0.9993Epoch 00049: saving model to ../../wand/spell_net/models/spell_net_49.h5\n",
      "750/750 [==============================] - 86s 115ms/step - loss: 0.0019 - acc: 0.9993 - val_loss: 0.0148 - val_acc: 0.9973\n",
      "Epoch 50/50\n",
      "749/750 [============================>.] - ETA: 0s - loss: 0.0014 - acc: 0.9994Epoch 00050: saving model to ../../wand/spell_net/models/spell_net_50.h5\n",
      "750/750 [==============================] - 86s 115ms/step - loss: 0.0014 - acc: 0.9994 - val_loss: 0.0079 - val_acc: 0.9980\n"
     ]
    },
    {
     "data": {
      "text/plain": [
       "<keras.callbacks.History at 0x1c9083abb38>"
      ]
     },
     "execution_count": 8,
     "metadata": {},
     "output_type": "execute_result"
    }
   ],
   "source": [
    "train_callbacks = [\n",
    "    EarlyStopping(monitor='val_loss', patience=25, verbose=0, mode='min'),\n",
    "    ModelCheckpoint(filepath=os.path.join(GENERATED_MODEL_PATH, \"spell_net_{epoch:02d}.h5\"),\n",
    "                    verbose=1),\n",
    "    TensorBoard(log_dir=GENERATED_MODEL_PATH, write_graph=False),   \n",
    "]\n",
    "s = spell_net(number_of_classess=test_generator.num_classes)\n",
    "s.compile(loss='categorical_crossentropy', optimizer='adam', metrics=['accuracy'])\n",
    "s.fit_generator(\n",
    "            train_generator,\n",
    "            steps_per_epoch=(len(train_generator.filenames)) // train_generator.batch_size,\n",
    "            epochs=NUM_EPOCH,\n",
    "            validation_data=test_generator,\n",
    "            validation_steps=(len(test_generator.filenames)) // test_generator.batch_size,\n",
    "            callbacks=train_callbacks,\n",
    "            verbose=1\n",
    "        )"
   ]
  },
  {
   "cell_type": "markdown",
   "metadata": {},
   "source": [
    "Finally, our network is trained. \n",
    "The latest model can be found [here](https://s3.amazonaws.com/pipotter/spell_net/spell_net.tar.gz)"
   ]
  },
  {
   "cell_type": "code",
   "execution_count": 33,
   "metadata": {
    "collapsed": false
   },
   "outputs": [],
   "source": [
    "from keras.models import load_model\n",
    "import numpy as np\n",
    "spell_net = load_model(os.path.join(GENERATED_MODEL_PATH, \"_spell_net.h5\" ))"
   ]
  },
  {
   "cell_type": "code",
   "execution_count": 34,
   "metadata": {
    "collapsed": false
   },
   "outputs": [],
   "source": [
    "test_img = test_generator.next()[0]"
   ]
  },
  {
   "cell_type": "code",
   "execution_count": 35,
   "metadata": {
    "collapsed": false
   },
   "outputs": [
    {
     "name": "stdout",
     "output_type": "stream",
     "text": [
      "[[  1.25314282e-11   7.57894832e-13   7.36110218e-12   9.82245318e-13\n",
      "    1.14651062e-01   1.08732997e-11]]\n",
      "[[  1.12771737e-07   2.53905341e-07   5.03460285e-07   5.48791412e-09\n",
      "    9.35200274e-01   1.28018207e-10]]\n",
      "[[  2.65414589e-13   1.11036926e-11   9.22091544e-01   3.31654029e-13\n",
      "    3.38883055e-09   4.18229687e-11]]\n",
      "[[  9.98414159e-01   2.97229885e-09   3.51065066e-09   1.54235524e-09\n",
      "    1.03940092e-08   1.81153954e-08]]\n",
      "[[  9.01765929e-07   9.98220146e-01   1.68526946e-14   1.84442132e-11\n",
      "    1.33299922e-08   3.64689371e-13]]\n",
      "[[  4.36523533e-06   9.98897076e-01   8.00277900e-10   2.05847126e-08\n",
      "    8.27406907e-08   6.97702340e-09]]\n",
      "[[  3.76007975e-11   2.54404189e-11   2.64778167e-01   7.39738448e-09\n",
      "    9.89115492e-08   3.88345911e-10]]\n",
      "[[  1.25404087e-09   5.59672144e-12   5.53473899e-11   9.72611644e-11\n",
      "    3.01226752e-12   9.87776637e-01]]\n",
      "[[  3.14032203e-11   4.94873864e-11   7.52129108e-02   3.62397529e-10\n",
      "    6.04852744e-07   1.79741517e-11]]\n",
      "[[  1.85514626e-08   1.36025957e-09   4.60474809e-07   2.59432336e-03\n",
      "    3.47610182e-07   5.75634090e-07]]\n",
      "[[  3.44399642e-09   3.60948533e-08   1.56814917e-06   9.99453008e-01\n",
      "    2.03934178e-06   5.22257260e-08]]\n",
      "[[  1.40958027e-08   1.04189535e-09   3.25706928e-08   1.08541535e-07\n",
      "    5.29832903e-07   1.20028175e-01]]\n",
      "[[  9.65178458e-12   3.32728159e-12   1.98128014e-10   2.15371514e-12\n",
      "    4.54781614e-02   3.90538106e-13]]\n",
      "[[  9.99999523e-01   5.62465008e-09   1.01367172e-10   8.83983303e-11\n",
      "    7.34406373e-12   7.18914350e-08]]\n",
      "[[  2.01270556e-08   2.14007812e-07   1.03211754e-07   1.28607468e-07\n",
      "    2.13418954e-08   7.33123004e-01]]\n",
      "[[  5.24921911e-11   9.45071243e-11   1.72704802e-11   6.16141795e-13\n",
      "    2.10930839e-01   2.17645536e-13]]\n",
      "[[  4.78302953e-09   3.00948398e-11   7.10342359e-03   4.64882056e-11\n",
      "    2.40135591e-08   8.06925013e-11]]\n",
      "[[  8.07803911e-12   3.07552174e-14   9.16906898e-11   7.80840149e-12\n",
      "    1.09033979e-01   8.25482938e-14]]\n",
      "[[  2.04804410e-10   4.73161066e-08   1.66757389e-11   4.72975373e-01\n",
      "    3.59801390e-07   4.76244912e-12]]\n",
      "[[  1.04402289e-07   9.99998450e-01   4.08267604e-13   3.47977445e-11\n",
      "    6.98397007e-10   5.31865996e-10]]\n",
      "[[  4.27824931e-09   1.73568267e-12   2.01640589e-08   9.99997735e-01\n",
      "    2.82098057e-07   1.86566457e-11]]\n",
      "[[  5.40375105e-08   1.32477481e-07   6.49822027e-08   1.51580434e-06\n",
      "    1.32887665e-08   8.47251058e-01]]\n",
      "[[  9.62923825e-01   2.95714546e-08   2.63929156e-11   4.82554057e-12\n",
      "    1.17761967e-09   3.45027201e-11]]\n",
      "[[  3.55315430e-11   8.88457641e-11   4.00463705e-07   3.64980290e-09\n",
      "    1.67297787e-10   9.99904752e-01]]\n",
      "[[  1.43306243e-15   5.29498971e-12   2.67912475e-20   9.99465883e-01\n",
      "    1.91168581e-07   1.86663327e-14]]\n",
      "[[  5.17480636e-09   9.71225858e-01   2.20997415e-10   1.26796418e-09\n",
      "    1.57783077e-07   1.63424596e-09]]\n",
      "[[  1.41826872e-09   1.23820443e-09   5.60743585e-09   1.45434793e-11\n",
      "    9.83650029e-01   1.52695933e-12]]\n",
      "[[  9.99778926e-01   1.13230499e-07   1.31373552e-08   1.17499477e-09\n",
      "    2.36588305e-10   3.60479824e-09]]\n",
      "[[  2.43957521e-09   4.25067581e-09   3.00234754e-10   3.85035435e-08\n",
      "    4.58785365e-08   9.94141161e-01]]\n",
      "[[  1.91503560e-08   4.28480673e-09   5.82666138e-10   9.98413801e-01\n",
      "    5.42918144e-07   2.74872374e-08]]\n",
      "[[  2.94352431e-10   1.90619009e-09   1.41333519e-02   3.41363804e-09\n",
      "    1.96863724e-07   1.02100051e-10]]\n",
      "[[  3.43667961e-09   3.40949313e-09   9.37139047e-11   1.94056327e-07\n",
      "    1.46738262e-06   9.95627522e-01]]\n",
      "[[  7.26675564e-09   3.49322724e-11   5.11645970e-09   1.62994539e-07\n",
      "    5.62029889e-08   9.91582096e-01]]\n",
      "[[  2.27354953e-08   3.22071064e-10   3.11550252e-08   1.06669620e-01\n",
      "    7.80166374e-07   5.35699152e-10]]\n",
      "[[  4.90267311e-08   9.99964714e-01   8.12230938e-14   1.54402136e-09\n",
      "    2.79739495e-11   3.61800455e-12]]\n",
      "[[  9.13209476e-07   9.99907970e-01   1.60654667e-11   2.31768365e-08\n",
      "    1.58218716e-09   6.69573863e-09]]\n",
      "[[  1.44645951e-09   9.74165679e-11   3.37494116e-10   1.28194961e-06\n",
      "    3.39417405e-09   9.99070764e-01]]\n",
      "[[  1.97785364e-12   1.14710021e-12   2.01957909e-10   5.88414625e-13\n",
      "    9.22755122e-01   1.18368455e-12]]\n",
      "[[  9.99947071e-01   7.01873404e-09   4.27718838e-09   6.40158204e-10\n",
      "    1.28100650e-08   3.08581392e-08]]\n",
      "[[  1.29769017e-11   3.94598665e-09   3.31553966e-02   8.15261886e-11\n",
      "    1.37218403e-09   3.16966564e-10]]\n",
      "[[  6.65923316e-10   4.03267662e-11   7.40207397e-05   4.31592401e-10\n",
      "    4.34252014e-03   6.32340291e-11]]\n",
      "[[  2.59239350e-05   9.89832759e-01   1.20238186e-09   9.15884812e-10\n",
      "    3.61144821e-08   7.90879362e-09]]\n",
      "[[  1.28921093e-11   2.72892264e-10   3.46517552e-08   1.16275004e-10\n",
      "    9.99910116e-01   1.78116341e-11]]\n",
      "[[  3.73929776e-10   1.44316017e-10   2.69939303e-01   2.24303531e-09\n",
      "    3.90730565e-06   5.53275759e-10]]\n",
      "[[  2.50178567e-09   1.05782404e-10   1.35592970e-07   9.84623611e-01\n",
      "    6.76200443e-07   7.17856885e-11]]\n",
      "[[  2.70362577e-09   3.90443667e-12   5.95859706e-01   3.85305426e-10\n",
      "    1.39033716e-06   2.04353046e-09]]\n",
      "[[  1.18296909e-12   1.27184032e-08   3.23141548e-11   9.99832511e-01\n",
      "    1.43642795e-08   2.40902825e-10]]\n",
      "[[  2.09242526e-10   3.04074682e-10   9.09755027e-09   4.65646133e-11\n",
      "    9.99347150e-01   5.41941179e-11]]\n",
      "[[  1.08617788e-14   4.26984620e-12   9.31030691e-01   1.72361379e-13\n",
      "    1.78233938e-11   6.37093225e-11]]\n",
      "[[  2.30329807e-13   3.00089190e-11   3.12614496e-12   9.97470140e-01\n",
      "    3.05931613e-10   1.16105536e-09]]\n",
      "[[  9.99901772e-01   4.36517062e-08   7.31822354e-08   9.13315645e-09\n",
      "    4.59693572e-09   1.73012260e-09]]\n",
      "[[  5.91716726e-13   3.36934369e-11   3.53526430e-09   9.99795020e-01\n",
      "    5.33603872e-09   8.00561006e-12]]\n",
      "[[  1.29031119e-10   4.59559604e-12   4.44128817e-14   1.24628633e-13\n",
      "    9.99999762e-01   1.21185300e-14]]\n",
      "[[  1.98201433e-09   1.45341836e-08   5.13300824e-09   9.99998808e-01\n",
      "    5.93935301e-09   1.05644849e-05]]\n",
      "[[  3.03498893e-09   4.00544371e-13   3.69963534e-02   7.30408269e-12\n",
      "    2.58571472e-05   2.46536924e-08]]\n",
      "[[  4.45193416e-13   3.43691070e-12   1.55509633e-12   2.95439807e-13\n",
      "    9.99111116e-01   5.81948269e-15]]\n",
      "[[  2.66227373e-09   8.38642307e-14   2.05579139e-02   5.63075975e-12\n",
      "    2.50810672e-06   2.17158758e-09]]\n",
      "[[  1.26608168e-09   6.06656911e-08   2.32707201e-10   1.63078120e-08\n",
      "    4.58669945e-07   9.98422861e-01]]\n",
      "[[  2.52369153e-10   3.31507849e-10   8.60055256e-12   4.04323197e-09\n",
      "    1.90848525e-07   5.32966673e-01]]\n",
      "[[  9.99970198e-01   1.52256519e-08   1.11566278e-09   2.23151705e-10\n",
      "    1.36808698e-08   7.70508324e-10]]\n",
      "[[  7.80838434e-07   9.94783938e-01   2.93912206e-09   4.85257889e-10\n",
      "    1.27140055e-07   1.48708788e-08]]\n",
      "[[  9.98026669e-01   8.62551985e-09   3.86380243e-08   5.43088019e-10\n",
      "    1.40293386e-08   3.39932305e-10]]\n",
      "[[  4.15419088e-12   8.40144062e-14   7.46681159e-14   4.00364658e-14\n",
      "    9.94344950e-01   5.16258535e-15]]\n",
      "[[  3.02192245e-13   7.32005805e-14   2.61289769e-13   3.41835325e-14\n",
      "    9.98290241e-01   5.85867940e-17]]\n"
     ]
    }
   ],
   "source": [
    "for an_img in test_img:\n",
    "    print(spell_net.predict(np.array([an_img])))"
   ]
  },
  {
   "cell_type": "code",
   "execution_count": 36,
   "metadata": {
    "collapsed": false
   },
   "outputs": [
    {
     "data": {
      "text/plain": [
       "array([[[ 0.        ,  0.        ,  0.        ],\n",
       "        [ 0.        ,  0.        ,  0.        ],\n",
       "        [ 0.        ,  0.        ,  0.        ],\n",
       "        ..., \n",
       "        [ 0.        ,  0.        ,  0.        ],\n",
       "        [ 0.        ,  0.        ,  0.        ],\n",
       "        [ 0.        ,  0.        ,  0.        ]],\n",
       "\n",
       "       [[ 0.        ,  0.        ,  0.        ],\n",
       "        [ 0.0627451 ,  0.0627451 ,  0.0627451 ],\n",
       "        [ 0.00784314,  0.00784314,  0.00784314],\n",
       "        ..., \n",
       "        [ 0.02352941,  0.02352941,  0.02352941],\n",
       "        [ 0.        ,  0.        ,  0.        ],\n",
       "        [ 0.        ,  0.        ,  0.        ]],\n",
       "\n",
       "       [[ 0.0627451 ,  0.0627451 ,  0.0627451 ],\n",
       "        [ 0.0627451 ,  0.0627451 ,  0.0627451 ],\n",
       "        [ 0.08627451,  0.08627451,  0.08627451],\n",
       "        ..., \n",
       "        [ 0.00784314,  0.00784314,  0.00784314],\n",
       "        [ 0.01568628,  0.01568628,  0.01568628],\n",
       "        [ 0.01568628,  0.01568628,  0.01568628]],\n",
       "\n",
       "       ..., \n",
       "       [[ 0.03137255,  0.03137255,  0.03137255],\n",
       "        [ 0.03137255,  0.03137255,  0.03137255],\n",
       "        [ 0.03921569,  0.03921569,  0.03921569],\n",
       "        ..., \n",
       "        [ 0.        ,  0.        ,  0.        ],\n",
       "        [ 0.02352941,  0.02352941,  0.02352941],\n",
       "        [ 0.02352941,  0.02352941,  0.02352941]],\n",
       "\n",
       "       [[ 0.        ,  0.        ,  0.        ],\n",
       "        [ 0.        ,  0.        ,  0.        ],\n",
       "        [ 0.01568628,  0.01568628,  0.01568628],\n",
       "        ..., \n",
       "        [ 0.        ,  0.        ,  0.        ],\n",
       "        [ 0.        ,  0.        ,  0.        ],\n",
       "        [ 0.        ,  0.        ,  0.        ]],\n",
       "\n",
       "       [[ 0.03921569,  0.03921569,  0.03921569],\n",
       "        [ 0.03921569,  0.03921569,  0.03921569],\n",
       "        [ 0.        ,  0.        ,  0.        ],\n",
       "        ..., \n",
       "        [ 0.05490196,  0.05490196,  0.05490196],\n",
       "        [ 0.        ,  0.        ,  0.        ],\n",
       "        [ 0.        ,  0.        ,  0.        ]]], dtype=float32)"
      ]
     },
     "execution_count": 36,
     "metadata": {},
     "output_type": "execute_result"
    }
   ],
   "source": []
  },
  {
   "cell_type": "code",
   "execution_count": 37,
   "metadata": {
    "collapsed": false
   },
   "outputs": [
    {
     "data": {
      "text/plain": [
       "0.00784313725490196"
      ]
     },
     "execution_count": 37,
     "metadata": {},
     "output_type": "execute_result"
    }
   ],
   "source": []
  },
  {
   "cell_type": "code",
   "execution_count": null,
   "metadata": {
    "collapsed": true
   },
   "outputs": [],
   "source": []
  }
 ],
 "metadata": {
  "kernelspec": {
   "display_name": "Python (deeplearning)",
   "language": "python",
   "name": "deeplearning"
  },
  "language_info": {
   "codemirror_mode": {
    "name": "ipython",
    "version": 3
   },
   "file_extension": ".py",
   "mimetype": "text/x-python",
   "name": "python",
   "nbconvert_exporter": "python",
   "pygments_lexer": "ipython3",
   "version": "3.6.3"
  }
 },
 "nbformat": 4,
 "nbformat_minor": 1
}
